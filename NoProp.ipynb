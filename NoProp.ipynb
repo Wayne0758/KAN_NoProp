{
  "cells": [
    {
      "cell_type": "markdown",
      "metadata": {
        "colab_type": "text",
        "id": "view-in-github"
      },
      "source": [
        "<a href=\"https://colab.research.google.com/github/Sid3503/NoProp/blob/main/NoProp.ipynb\" target=\"_parent\"><img src=\"https://colab.research.google.com/assets/colab-badge.svg\" alt=\"Open In Colab\"/></a>"
      ]
    },
    {
      "cell_type": "markdown",
      "metadata": {
        "id": "zCu1mXACaKdx"
      },
      "source": [
        "# Setup Libraries"
      ]
    },
    {
      "cell_type": "code",
      "execution_count": 1,
      "metadata": {
        "id": "ZoxseEX7_Fy1"
      },
      "outputs": [],
      "source": [
        "import torch\n",
        "import torch.nn as nn\n",
        "import torch.optim as optim\n",
        "from torchvision import datasets, transforms\n",
        "from torch.utils.data import DataLoader\n",
        "from kan import KAN"
      ]
    },
    {
      "cell_type": "markdown",
      "metadata": {
        "id": "nxES-OQfaZaF"
      },
      "source": [
        "# Hyperparameters"
      ]
    },
    {
      "cell_type": "code",
      "execution_count": 2,
      "metadata": {
        "id": "GApOWb8K_QbC"
      },
      "outputs": [],
      "source": [
        "# Hyperparameters\n",
        "T = 10  # Diffusion steps\n",
        "embed_dim = 10  # Label embedding dimension(No. of Classes)\n",
        "batch_size = 128\n",
        "lr = 0.001\n",
        "epochs = 50"
      ]
    },
    {
      "cell_type": "code",
      "execution_count": 3,
      "metadata": {
        "id": "vzSRvuN-_QUv"
      },
      "outputs": [],
      "source": [
        "# Noise schedule (linear)\n",
        "alpha = torch.linspace(1.0, 0.1, T)  # α_t from 1.0 → 0.1"
      ]
    },
    {
      "cell_type": "code",
      "execution_count": 4,
      "metadata": {
        "colab": {
          "base_uri": "https://localhost:8080/"
        },
        "id": "Sqfg91HP_QSx",
        "outputId": "10d03ab1-b7ad-4d32-92fc-47d80b4aae24"
      },
      "outputs": [
        {
          "name": "stdout",
          "output_type": "stream",
          "text": [
            "tensor([1.0000, 0.9000, 0.8000, 0.7000, 0.6000, 0.5000, 0.4000, 0.3000, 0.2000,\n",
            "        0.1000])\n"
          ]
        }
      ],
      "source": [
        "print(alpha)"
      ]
    },
    {
      "cell_type": "markdown",
      "metadata": {
        "id": "eeZ3MSd3adhn"
      },
      "source": [
        "# Setting Up Models"
      ]
    },
    {
      "cell_type": "code",
      "execution_count": 5,
      "metadata": {
        "id": "uJ26Tb7Z_QQR"
      },
      "outputs": [],
      "source": [
        "# MLP for denoising\n",
        "class DenoisingKAN(nn.Module):\n",
        "    def __init__(self):\n",
        "        super().__init__()\n",
        "        self.kan = nn.Sequential(\n",
        "            KAN([128 + embed_dim, 256]),\n",
        "            KAN([256, embed_dim])        # Output: denoised label\n",
        "        )\n",
        "\n",
        "    def forward(self, x_features, z_t):\n",
        "        combined = torch.cat([x_features, z_t], dim=1)\n",
        "        return self.kan(combined)"
      ]
    },
    {
      "cell_type": "code",
      "execution_count": 6,
      "metadata": {
        "id": "JDYgzrdr_tsx"
      },
      "outputs": [],
      "source": [
        "# CNN for image features\n",
        "class CNN(nn.Module):\n",
        "    def __init__(self):\n",
        "        super().__init__()\n",
        "        self.features = nn.Sequential(\n",
        "            nn.Conv2d(1, 32, 3, 1),\n",
        "            nn.ReLU(),\n",
        "            nn.MaxPool2d(2),\n",
        "            nn.Conv2d(32, 64, 3, 1),\n",
        "            nn.ReLU(),\n",
        "            nn.MaxPool2d(2),\n",
        "            nn.Flatten(),\n",
        "            nn.Linear(1600, 128)  # MNIST: 28x28 → 1600-dim\n",
        "        )\n",
        "\n",
        "    def forward(self, x):\n",
        "        return self.features(x)"
      ]
    },
    {
      "cell_type": "code",
      "execution_count": 7,
      "metadata": {
        "id": "bTXUdHIm_wEw"
      },
      "outputs": [],
      "source": [
        "# Initialize models\n",
        "cnn = CNN()\n",
        "kans = nn.ModuleList([DenoisingKAN() for _ in range(T)])  # One MLP per layer\n",
        "optimizers = [optim.Adam(kan.parameters(), lr=lr) for kan in kans]"
      ]
    },
    {
      "cell_type": "code",
      "execution_count": 8,
      "metadata": {
        "colab": {
          "base_uri": "https://localhost:8080/"
        },
        "id": "3c_c5vIBaE1o",
        "outputId": "348103a5-19c8-4a99-db33-d5997ab6a314"
      },
      "outputs": [
        {
          "data": {
            "text/plain": [
              "CNN(\n",
              "  (features): Sequential(\n",
              "    (0): Conv2d(1, 32, kernel_size=(3, 3), stride=(1, 1))\n",
              "    (1): ReLU()\n",
              "    (2): MaxPool2d(kernel_size=2, stride=2, padding=0, dilation=1, ceil_mode=False)\n",
              "    (3): Conv2d(32, 64, kernel_size=(3, 3), stride=(1, 1))\n",
              "    (4): ReLU()\n",
              "    (5): MaxPool2d(kernel_size=2, stride=2, padding=0, dilation=1, ceil_mode=False)\n",
              "    (6): Flatten(start_dim=1, end_dim=-1)\n",
              "    (7): Linear(in_features=1600, out_features=128, bias=True)\n",
              "  )\n",
              ")"
            ]
          },
          "execution_count": 8,
          "metadata": {},
          "output_type": "execute_result"
        }
      ],
      "source": [
        "cnn"
      ]
    },
    {
      "cell_type": "code",
      "execution_count": 9,
      "metadata": {
        "colab": {
          "base_uri": "https://localhost:8080/"
        },
        "id": "uwA8rRCqaF4C",
        "outputId": "47eed38e-48ce-4186-a945-d0f0795f1f95"
      },
      "outputs": [
        {
          "data": {
            "text/plain": [
              "ModuleList(\n",
              "  (0-9): 10 x DenoisingKAN(\n",
              "    (kan): Sequential(\n",
              "      (0): KAN(\n",
              "        (layers): ModuleList(\n",
              "          (0): KANLinear(\n",
              "            (base_activation): SiLU()\n",
              "          )\n",
              "        )\n",
              "      )\n",
              "      (1): KAN(\n",
              "        (layers): ModuleList(\n",
              "          (0): KANLinear(\n",
              "            (base_activation): SiLU()\n",
              "          )\n",
              "        )\n",
              "      )\n",
              "    )\n",
              "  )\n",
              ")"
            ]
          },
          "execution_count": 9,
          "metadata": {},
          "output_type": "execute_result"
        }
      ],
      "source": [
        "kans"
      ]
    },
    {
      "cell_type": "markdown",
      "metadata": {
        "id": "TY3BUc9Dah44"
      },
      "source": [
        "# Preparing Dataset"
      ]
    },
    {
      "cell_type": "code",
      "execution_count": 10,
      "metadata": {
        "colab": {
          "base_uri": "https://localhost:8080/"
        },
        "id": "zZAWOkNB_xuF",
        "outputId": "3acd5dba-09e9-40a9-cd8c-16e8a87d6ffc"
      },
      "outputs": [],
      "source": [
        "# Load MNIST\n",
        "transform = transforms.ToTensor()\n",
        "train_data = datasets.MNIST(root='./data', train=True, download=True, transform=transform)\n",
        "train_loader = DataLoader(train_data, batch_size=batch_size, shuffle=True)"
      ]
    },
    {
      "cell_type": "markdown",
      "metadata": {
        "id": "0lgU9EC0amwQ"
      },
      "source": [
        "# Training"
      ]
    },
    {
      "cell_type": "markdown",
      "metadata": {
        "id": "HjthYG3JddhO"
      },
      "source": [
        "---\n",
        "\n",
        "### **NoProp Training Dry Run (1 Epoch Example)**\n",
        "\n",
        "\n",
        "# 🧪 NoProp Training Dry Run (1 Epoch)\n",
        "\n",
        "Let's simulate **one epoch** of training with:\n",
        "- Batch size = 3\n",
        "- Classes = 3 (\"cat\", \"dog\", \"bird\")\n",
        "- Diffusion steps (T) = 2\n",
        "\n",
        "## 📥 Batch Data\n",
        "**Input (x):** 3 images  \n",
        "**Labels (y):** [\"cat\"=0, \"dog\"=1, \"bird\"=2]  \n",
        "→ One-hot encoded `u_y`:\n",
        "```\n",
        "tensor([\n",
        " [1., 0., 0.],  # cat\n",
        " [0., 1., 0.],  # dog\n",
        " [0., 0., 1.]   # bird\n",
        "])\n",
        "```\n",
        "\n",
        "---\n",
        "\n",
        "## 🌪️ Forward Diffusion (Corrupt Labels)\n",
        "**Noise schedule (α):** [α₀=1.0, α₁=0.6, α₂=0.3]  \n",
        "1. **t=0:** `z₀ = u_y` (clean)\n",
        "\n",
        "2. **t=1:**  \n",
        "   `z₁ = √0.6*z₀ + √0.4*noise` ≈\n",
        "```\n",
        "tensor([\n",
        " [0.77, 0.20, 0.03],  # noisy cat\n",
        " [0.10, 0.85, 0.05],  # noisy dog\n",
        " [0.05, 0.10, 0.85]   # noisy bird\n",
        "])\n",
        "```\n",
        "\n",
        "\n",
        "3. **t=2:**  \n",
        "   `z₂ = √0.3*z₁ + √0.7*noise` ≈\n",
        "\n",
        "```\n",
        "tensor([\n",
        " [0.40, 0.35, 0.25],  # very noisy cat\n",
        " [0.25, 0.45, 0.30],  # very noisy dog\n",
        " [0.20, 0.25, 0.55]   # very noisy bird\n",
        "])\n",
        "```\n",
        "\n",
        "---\n",
        "\n",
        "**Example for MLP1 (t=1):**\n",
        "- **Input:** Image features + `z₁ = [0.77,0.20,0.03]` (noisy cat)\n",
        "- **Prediction:** `[0.9, 0.1, 0.0]` (should approach `[1,0,0]`)\n",
        "- **Loss:** MSE([0.9,0.1,0.0], [1,0,0]) = 0.01\n",
        "\n",
        "## 🔄 Weight Updates\n",
        "1. Sum losses from all MLPs → `total_loss`\n",
        "2. Backpropagate → Update all MLPs independently\n",
        "\n",
        "## 📊 Epoch Output\n",
        "`Epoch 1/10 | Avg Loss: 0.85`  \n",
        "*(Loss decreases as MLPs learn to denoise better)*\n",
        "\n",
        "---\n",
        "\n",
        "### **Key Takeaways**\n",
        "1. **Diffusion**: Labels are progressively noised from clean → random.\n",
        "2. **Specialization**: Each MLP handles a specific noise level.\n",
        "3. **Independence**: No backprop between layers → parallel training."
      ]
    },
    {
      "cell_type": "code",
      "execution_count": 11,
      "metadata": {
        "colab": {
          "base_uri": "https://localhost:8080/"
        },
        "id": "KtGT_c1H_y9r",
        "outputId": "2ae2430a-4e96-4e08-9ce6-1e7bc7b719ed"
      },
      "outputs": [
        {
          "name": "stdout",
          "output_type": "stream",
          "text": [
            "Epoch 1/50 | Avg Loss: 0.4358\n",
            "Epoch 2/50 | Avg Loss: 0.2447\n",
            "Epoch 3/50 | Avg Loss: 0.1692\n",
            "Epoch 4/50 | Avg Loss: 0.1409\n"
          ]
        },
        {
          "ename": "KeyboardInterrupt",
          "evalue": "",
          "output_type": "error",
          "traceback": [
            "\u001b[31m---------------------------------------------------------------------------\u001b[39m",
            "\u001b[31mKeyboardInterrupt\u001b[39m                         Traceback (most recent call last)",
            "\u001b[36mCell\u001b[39m\u001b[36m \u001b[39m\u001b[32mIn[11]\u001b[39m\u001b[32m, line 27\u001b[39m\n\u001b[32m     25\u001b[39m \u001b[38;5;28;01mfor\u001b[39;00m opt \u001b[38;5;129;01min\u001b[39;00m optimizers:\n\u001b[32m     26\u001b[39m     opt.zero_grad()\n\u001b[32m---> \u001b[39m\u001b[32m27\u001b[39m \u001b[43mtotal_loss\u001b[49m\u001b[43m.\u001b[49m\u001b[43mbackward\u001b[49m\u001b[43m(\u001b[49m\u001b[43m)\u001b[49m\n\u001b[32m     28\u001b[39m \u001b[38;5;28;01mfor\u001b[39;00m opt \u001b[38;5;129;01min\u001b[39;00m optimizers:\n\u001b[32m     29\u001b[39m     opt.step()\n",
            "\u001b[36mFile \u001b[39m\u001b[32mg:\\Machine Learning\\torchcuda\\Lib\\site-packages\\torch\\_tensor.py:581\u001b[39m, in \u001b[36mTensor.backward\u001b[39m\u001b[34m(self, gradient, retain_graph, create_graph, inputs)\u001b[39m\n\u001b[32m    571\u001b[39m \u001b[38;5;28;01mif\u001b[39;00m has_torch_function_unary(\u001b[38;5;28mself\u001b[39m):\n\u001b[32m    572\u001b[39m     \u001b[38;5;28;01mreturn\u001b[39;00m handle_torch_function(\n\u001b[32m    573\u001b[39m         Tensor.backward,\n\u001b[32m    574\u001b[39m         (\u001b[38;5;28mself\u001b[39m,),\n\u001b[32m   (...)\u001b[39m\u001b[32m    579\u001b[39m         inputs=inputs,\n\u001b[32m    580\u001b[39m     )\n\u001b[32m--> \u001b[39m\u001b[32m581\u001b[39m \u001b[43mtorch\u001b[49m\u001b[43m.\u001b[49m\u001b[43mautograd\u001b[49m\u001b[43m.\u001b[49m\u001b[43mbackward\u001b[49m\u001b[43m(\u001b[49m\n\u001b[32m    582\u001b[39m \u001b[43m    \u001b[49m\u001b[38;5;28;43mself\u001b[39;49m\u001b[43m,\u001b[49m\u001b[43m \u001b[49m\u001b[43mgradient\u001b[49m\u001b[43m,\u001b[49m\u001b[43m \u001b[49m\u001b[43mretain_graph\u001b[49m\u001b[43m,\u001b[49m\u001b[43m \u001b[49m\u001b[43mcreate_graph\u001b[49m\u001b[43m,\u001b[49m\u001b[43m \u001b[49m\u001b[43minputs\u001b[49m\u001b[43m=\u001b[49m\u001b[43minputs\u001b[49m\n\u001b[32m    583\u001b[39m \u001b[43m\u001b[49m\u001b[43m)\u001b[49m\n",
            "\u001b[36mFile \u001b[39m\u001b[32mg:\\Machine Learning\\torchcuda\\Lib\\site-packages\\torch\\autograd\\__init__.py:347\u001b[39m, in \u001b[36mbackward\u001b[39m\u001b[34m(tensors, grad_tensors, retain_graph, create_graph, grad_variables, inputs)\u001b[39m\n\u001b[32m    342\u001b[39m     retain_graph = create_graph\n\u001b[32m    344\u001b[39m \u001b[38;5;66;03m# The reason we repeat the same comment below is that\u001b[39;00m\n\u001b[32m    345\u001b[39m \u001b[38;5;66;03m# some Python versions print out the first line of a multi-line function\u001b[39;00m\n\u001b[32m    346\u001b[39m \u001b[38;5;66;03m# calls in the traceback and some print out the last line\u001b[39;00m\n\u001b[32m--> \u001b[39m\u001b[32m347\u001b[39m \u001b[43m_engine_run_backward\u001b[49m\u001b[43m(\u001b[49m\n\u001b[32m    348\u001b[39m \u001b[43m    \u001b[49m\u001b[43mtensors\u001b[49m\u001b[43m,\u001b[49m\n\u001b[32m    349\u001b[39m \u001b[43m    \u001b[49m\u001b[43mgrad_tensors_\u001b[49m\u001b[43m,\u001b[49m\n\u001b[32m    350\u001b[39m \u001b[43m    \u001b[49m\u001b[43mretain_graph\u001b[49m\u001b[43m,\u001b[49m\n\u001b[32m    351\u001b[39m \u001b[43m    \u001b[49m\u001b[43mcreate_graph\u001b[49m\u001b[43m,\u001b[49m\n\u001b[32m    352\u001b[39m \u001b[43m    \u001b[49m\u001b[43minputs\u001b[49m\u001b[43m,\u001b[49m\n\u001b[32m    353\u001b[39m \u001b[43m    \u001b[49m\u001b[43mallow_unreachable\u001b[49m\u001b[43m=\u001b[49m\u001b[38;5;28;43;01mTrue\u001b[39;49;00m\u001b[43m,\u001b[49m\n\u001b[32m    354\u001b[39m \u001b[43m    \u001b[49m\u001b[43maccumulate_grad\u001b[49m\u001b[43m=\u001b[49m\u001b[38;5;28;43;01mTrue\u001b[39;49;00m\u001b[43m,\u001b[49m\n\u001b[32m    355\u001b[39m \u001b[43m\u001b[49m\u001b[43m)\u001b[49m\n",
            "\u001b[36mFile \u001b[39m\u001b[32mg:\\Machine Learning\\torchcuda\\Lib\\site-packages\\torch\\autograd\\graph.py:825\u001b[39m, in \u001b[36m_engine_run_backward\u001b[39m\u001b[34m(t_outputs, *args, **kwargs)\u001b[39m\n\u001b[32m    823\u001b[39m     unregister_hooks = _register_logging_hooks_on_whole_graph(t_outputs)\n\u001b[32m    824\u001b[39m \u001b[38;5;28;01mtry\u001b[39;00m:\n\u001b[32m--> \u001b[39m\u001b[32m825\u001b[39m     \u001b[38;5;28;01mreturn\u001b[39;00m \u001b[43mVariable\u001b[49m\u001b[43m.\u001b[49m\u001b[43m_execution_engine\u001b[49m\u001b[43m.\u001b[49m\u001b[43mrun_backward\u001b[49m\u001b[43m(\u001b[49m\u001b[43m  \u001b[49m\u001b[38;5;66;43;03m# Calls into the C++ engine to run the backward pass\u001b[39;49;00m\n\u001b[32m    826\u001b[39m \u001b[43m        \u001b[49m\u001b[43mt_outputs\u001b[49m\u001b[43m,\u001b[49m\u001b[43m \u001b[49m\u001b[43m*\u001b[49m\u001b[43margs\u001b[49m\u001b[43m,\u001b[49m\u001b[43m \u001b[49m\u001b[43m*\u001b[49m\u001b[43m*\u001b[49m\u001b[43mkwargs\u001b[49m\n\u001b[32m    827\u001b[39m \u001b[43m    \u001b[49m\u001b[43m)\u001b[49m  \u001b[38;5;66;03m# Calls into the C++ engine to run the backward pass\u001b[39;00m\n\u001b[32m    828\u001b[39m \u001b[38;5;28;01mfinally\u001b[39;00m:\n\u001b[32m    829\u001b[39m     \u001b[38;5;28;01mif\u001b[39;00m attach_logging_hooks:\n",
            "\u001b[31mKeyboardInterrupt\u001b[39m: "
          ]
        }
      ],
      "source": [
        "# Training loop\n",
        "for epoch in range(epochs):\n",
        "    epoch_loss = 0.0\n",
        "    batch_count = 0\n",
        "\n",
        "    for x, y in train_loader:\n",
        "        current_batch_size = x.shape[0]\n",
        "        u_y = torch.zeros(current_batch_size, embed_dim).scatter_(1, y.unsqueeze(1), 1)\n",
        "\n",
        "        # Forward diffusion(Adding Noise for each 'T')\n",
        "        z = [u_y]\n",
        "        for t in range(1, T + 1):\n",
        "            eps = torch.randn_like(u_y)\n",
        "            z_t = torch.sqrt(alpha[t-1]) * z[-1] + torch.sqrt(1 - alpha[t-1]) * eps\n",
        "            z.append(z_t)\n",
        "\n",
        "        # Train MLPs\n",
        "        x_features = cnn(x)\n",
        "        losses = []\n",
        "        for t in range(T):\n",
        "            u_hat = kans[t](x_features, z[t+1].detach())\n",
        "            losses.append(torch.mean((u_hat - u_y) ** 2))\n",
        "\n",
        "        total_loss = sum(losses)\n",
        "        for opt in optimizers:\n",
        "            opt.zero_grad()\n",
        "        total_loss.backward()\n",
        "        for opt in optimizers:\n",
        "            opt.step()\n",
        "\n",
        "        epoch_loss += total_loss.item()\n",
        "        batch_count += 1\n",
        "\n",
        "    # Epoch summary print\n",
        "    avg_loss = epoch_loss / batch_count\n",
        "    print(f\"Epoch {epoch+1}/{epochs} | Avg Loss: {avg_loss:.4f}\")\n",
        "\n",
        "# Final message\n",
        "print(\"Training complete!\")"
      ]
    },
    {
      "cell_type": "markdown",
      "metadata": {
        "id": "kGrsvukHaqGX"
      },
      "source": [
        "# Inferencing"
      ]
    },
    {
      "cell_type": "code",
      "execution_count": null,
      "metadata": {
        "id": "LINA1yBV_0XH"
      },
      "outputs": [],
      "source": [
        "# Inference (denoising)\n",
        "def predict(x):\n",
        "    z_t = torch.randn(1, embed_dim)  # Start from noise\n",
        "    for t in reversed(range(T)):\n",
        "        x_features = cnn(x.unsqueeze(0))\n",
        "        u_hat = kans[t](x_features, z_t)\n",
        "        z_t = torch.sqrt(alpha[t]) * u_hat + torch.sqrt(1 - alpha[t]) * torch.randn_like(u_hat)\n",
        "    return torch.argmax(z_t)  # Final prediction"
      ]
    },
    {
      "cell_type": "code",
      "execution_count": null,
      "metadata": {
        "colab": {
          "base_uri": "https://localhost:8080/"
        },
        "id": "Qs8kIZcb_0Tp",
        "outputId": "8823f70e-d3f6-4eb8-c2a6-bd771136c828"
      },
      "outputs": [
        {
          "name": "stdout",
          "output_type": "stream",
          "text": [
            "Predicted: 4, True: 4\n"
          ]
        }
      ],
      "source": [
        "# Test on an example\n",
        "x_test, y_test = next(iter(train_loader))\n",
        "pred = predict(x_test[0])\n",
        "print(f\"Predicted: {pred}, True: {y_test[0]}\")"
      ]
    },
    {
      "cell_type": "code",
      "execution_count": null,
      "metadata": {
        "id": "XTHv45S5_0RO"
      },
      "outputs": [],
      "source": [
        "import matplotlib.pyplot as plt\n",
        "import numpy as np\n",
        "\n",
        "def plot_prediction(x, true_label, pred_label, class_names=None):\n",
        "    \"\"\"\n",
        "    Plot image with true and predicted labels.\n",
        "\n",
        "    Args:\n",
        "        x (torch.Tensor): Input image tensor (1, C, H, W)\n",
        "        true_label (int): Ground truth class index\n",
        "        pred_label (int): Predicted class index\n",
        "        class_names (list): Optional list of class names\n",
        "    \"\"\"\n",
        "    # Convert tensor to numpy and denormalize if needed\n",
        "    img = x.squeeze().cpu().numpy()\n",
        "    if img.min() < 0 or img.max() > 1:  # Assuming [0,1] or [-1,1] range\n",
        "        img = (img - img.min()) / (img.max() - img.min())\n",
        "\n",
        "    # Create figure\n",
        "    plt.figure(figsize=(6, 3))\n",
        "\n",
        "    # Plot image\n",
        "    plt.subplot(1, 2, 1)\n",
        "    plt.imshow(img, cmap='gray' if img.ndim == 2 else None)\n",
        "    plt.axis('off')\n",
        "    plt.title('Input Image', pad=10)\n",
        "\n",
        "    # Plot labels\n",
        "    plt.subplot(1, 2, 2)\n",
        "    plt.axis('off')\n",
        "\n",
        "    if class_names:\n",
        "        true_str = f\"True: {class_names[true_label]} ({true_label})\"\n",
        "        pred_str = f\"Predicted: {class_names[pred_label]} ({pred_label})\"\n",
        "    else:\n",
        "        true_str = f\"True label: {true_label}\"\n",
        "        pred_str = f\"Predicted: {pred_label}\"\n",
        "\n",
        "    plt.text(0.1, 0.7, true_str, fontsize=12, color='green')\n",
        "    plt.text(0.1, 0.5, pred_str,\n",
        "             fontsize=12,\n",
        "             color='red' if true_label != pred_label else 'green')\n",
        "\n",
        "    # Highlight incorrect predictions\n",
        "    if true_label != pred_label:\n",
        "        plt.text(0.1, 0.3, \"INCORRECT\", fontsize=14, color='red', weight='bold')\n",
        "\n",
        "    plt.tight_layout()\n",
        "    plt.show()"
      ]
    },
    {
      "cell_type": "code",
      "execution_count": null,
      "metadata": {
        "colab": {
          "base_uri": "https://localhost:8080/",
          "height": 316
        },
        "id": "WK1nzjCt_0O-",
        "outputId": "d3afcc0a-d137-4ad0-dec9-e1a7fe0faa07"
      },
      "outputs": [
        {
          "ename": "",
          "evalue": "",
          "output_type": "error",
          "traceback": [
            "\u001b[1;31mThe Kernel crashed while executing code in the current cell or a previous cell. \n",
            "\u001b[1;31mPlease review the code in the cell(s) to identify a possible cause of the failure. \n",
            "\u001b[1;31mClick <a href='https://aka.ms/vscodeJupyterKernelCrash'>here</a> for more info. \n",
            "\u001b[1;31mView Jupyter <a href='command:jupyter.viewOutput'>log</a> for further details."
          ]
        }
      ],
      "source": [
        "# Example usage with MNIST\n",
        "class_names = [str(i) for i in range(10)]  # ['0', '1', ..., '9']\n",
        "x_test, y_test = next(iter(train_loader))\n",
        "pred = predict(x_test[0])\n",
        "\n",
        "plot_prediction(x_test[0],\n",
        "               y_test[0].item(),\n",
        "               pred.item(),\n",
        "               class_names)"
      ]
    },
    {
      "cell_type": "code",
      "execution_count": null,
      "metadata": {
        "id": "nGEr22BecAXl"
      },
      "outputs": [],
      "source": []
    }
  ],
  "metadata": {
    "accelerator": "GPU",
    "colab": {
      "authorship_tag": "ABX9TyOg0HFF5C/8CLWLLGaczBlp",
      "gpuType": "T4",
      "include_colab_link": true,
      "provenance": []
    },
    "kernelspec": {
      "display_name": "torchcuda",
      "language": "python",
      "name": "python3"
    },
    "language_info": {
      "codemirror_mode": {
        "name": "ipython",
        "version": 3
      },
      "file_extension": ".py",
      "mimetype": "text/x-python",
      "name": "python",
      "nbconvert_exporter": "python",
      "pygments_lexer": "ipython3",
      "version": "3.11.5"
    }
  },
  "nbformat": 4,
  "nbformat_minor": 0
}
